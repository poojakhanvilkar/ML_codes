{
 "cells": [
  {
   "cell_type": "markdown",
   "metadata": {},
   "source": [
    "# Deep Neural Network for Image Classification: Application\n",
    "\n",
    "When you finish this, you will have finished the last programming assignment of Week 4, and also the last programming assignment of this course! \n",
    "\n",
    "You will use use the functions you'd implemented in the previous assignment to build a deep network, and apply it to cat vs non-cat classification. Hopefully, you will see an improvement in accuracy relative to your previous logistic regression implementation.  \n",
    "\n",
    "**After this assignment you will be able to:**\n",
    "- Build and apply a deep neural network to supervised learning. \n",
    "\n",
    "Let's get started!"
   ]
  },
  {
   "cell_type": "markdown",
   "metadata": {},
   "source": [
    "## 1 - Packages"
   ]
  },
  {
   "cell_type": "markdown",
   "metadata": {},
   "source": [
    "Let's first import all the packages that you will need during this assignment. \n",
    "- [numpy](www.numpy.org) is the fundamental package for scientific computing with Python.\n",
    "- [matplotlib](http://matplotlib.org) is a library to plot graphs in Python.\n",
    "- [h5py](http://www.h5py.org) is a common package to interact with a dataset that is stored on an H5 file.\n",
    "- [PIL](http://www.pythonware.com/products/pil/) and [scipy](https://www.scipy.org/) are used here to test your model with your own picture at the end.\n",
    "- dnn_app_utils provides the functions implemented in the \"Building your Deep Neural Network: Step by Step\" assignment to this notebook.\n",
    "- np.random.seed(1) is used to keep all the random function calls consistent. It will help us grade your work."
   ]
  },
  {
   "cell_type": "code",
   "execution_count": 1,
   "metadata": {},
   "outputs": [
    {
     "name": "stderr",
     "output_type": "stream",
     "text": [
      "C:\\Users\\Priyam\\Anaconda3\\lib\\site-packages\\h5py\\__init__.py:36: FutureWarning: Conversion of the second argument of issubdtype from `float` to `np.floating` is deprecated. In future, it will be treated as `np.float64 == np.dtype(float).type`.\n",
      "  from ._conv import register_converters as _register_converters\n"
     ]
    }
   ],
   "source": [
    "import time\n",
    "import numpy as np\n",
    "import h5py\n",
    "import matplotlib.pyplot as plt\n",
    "import scipy\n",
    "from PIL import Image\n",
    "from scipy import ndimage\n",
    "from dnn_app_utils_v2 import *  #We created this\n",
    "\n",
    "%matplotlib inline\n",
    "plt.rcParams['figure.figsize'] = (5.0, 4.0) # set default size of plots\n",
    "plt.rcParams['image.interpolation'] = 'nearest'\n",
    "plt.rcParams['image.cmap'] = 'gray'\n",
    "\n",
    "%load_ext autoreload\n",
    "%autoreload 2\n",
    "\n",
    "np.random.seed(1)"
   ]
  },
  {
   "cell_type": "markdown",
   "metadata": {},
   "source": [
    "## 2 - Dataset\n",
    "\n",
    "You will use the same \"Cat vs non-Cat\" dataset as in \"Logistic Regression as a Neural Network\" (Assignment 2). The model you had built had 70% test accuracy on classifying cats vs non-cats images. Hopefully, your new model will perform a better!\n",
    "\n",
    "**Problem Statement**: You are given a dataset (\"data.h5\") containing:\n",
    "    - a training set of m_train images labelled as cat (1) or non-cat (0)\n",
    "    - a test set of m_test images labelled as cat and non-cat\n",
    "    - each image is of shape (num_px, num_px, 3) where 3 is for the 3 channels (RGB).\n",
    "\n",
    "Let's get more familiar with the dataset. Load the data by running the cell below."
   ]
  },
  {
   "cell_type": "code",
   "execution_count": 2,
   "metadata": {},
   "outputs": [],
   "source": [
    "train_x_orig, train_y_orig, test_x_orig, test_y_orig, classes = load_data()"
   ]
  },
  {
   "cell_type": "code",
   "execution_count": 7,
   "metadata": {},
   "outputs": [
    {
     "data": {
      "text/plain": [
       "(209, 64, 64, 3)"
      ]
     },
     "execution_count": 7,
     "metadata": {},
     "output_type": "execute_result"
    }
   ],
   "source": [
    "train_x_orig.shape"
   ]
  },
  {
   "cell_type": "code",
   "execution_count": 5,
   "metadata": {},
   "outputs": [
    {
     "name": "stdout",
     "output_type": "stream",
     "text": [
      "(209, 64, 64, 3)\n"
     ]
    }
   ],
   "source": [
    "print(train_x_orig.shape)  #Check the shape\n",
    "train_y=train_y_orig.T\n",
    "test_y=test_y_orig.T"
   ]
  },
  {
   "cell_type": "code",
   "execution_count": 8,
   "metadata": {},
   "outputs": [
    {
     "data": {
      "text/plain": [
       "array([b'non-cat', b'cat'], dtype='|S7')"
      ]
     },
     "execution_count": 8,
     "metadata": {},
     "output_type": "execute_result"
    }
   ],
   "source": [
    "classes"
   ]
  },
  {
   "cell_type": "markdown",
   "metadata": {},
   "source": [
    "The following code will show you an image in the dataset. Feel free to change the index and re-run the cell multiple times to see other images. "
   ]
  },
  {
   "cell_type": "code",
   "execution_count": 11,
   "metadata": {},
   "outputs": [
    {
     "name": "stdout",
     "output_type": "stream",
     "text": [
      "y = 1. It's a cat picture.\n"
     ]
    },
    {
     "data": {
      "image/png": "[encoded data removed]",
      "text/plain": [
       "<matplotlib.figure.Figure at 0x208e91df0b8>"
      ]
     },
     "metadata": {
      "needs_background": "light"
     },
     "output_type": "display_data"
    }
   ],
   "source": [
    "# Example of a picture\n",
    "index = 25\n",
    "plt.imshow(train_x_orig[index])\n",
    "print (\"y = \" + str(train_y[index,0]) + \". It's a \" + classes[train_y[index,0]].decode(\"utf-8\") +  \" picture.\")"
   ]
  },
  {
   "cell_type": "code",
   "execution_count": 12,
   "metadata": {},
   "outputs": [
    {
     "name": "stdout",
     "output_type": "stream",
     "text": [
      "Number of training examples: 209\n",
      "Number of testing examples: 50\n",
      "Each image is of size: (64, 64, 3)\n",
      "train_x_orig shape: (209, 64, 64, 3)\n",
      "train_y shape: (209, 1)\n",
      "test_x_orig shape: (50, 64, 64, 3)\n",
      "test_y shape: (50, 1)\n"
     ]
    }
   ],
   "source": [
    "# Explore your dataset \n",
    "m_train = train_x_orig.shape[0]\n",
    "num_px = train_x_orig.shape[1]\n",
    "m_test = test_x_orig.shape[0]\n",
    "\n",
    "print (\"Number of training examples: \" + str(m_train))\n",
    "print (\"Number of testing examples: \" + str(m_test))\n",
    "print (\"Each image is of size: (\" + str(num_px) + \", \" + str(num_px) + \", 3)\")\n",
    "print (\"train_x_orig shape: \" + str(train_x_orig.shape))\n",
    "print (\"train_y shape: \" + str(train_y.shape))\n",
    "print (\"test_x_orig shape: \" + str(test_x_orig.shape))\n",
    "print (\"test_y shape: \" + str(test_y.shape))"
   ]
  },
  {
   "cell_type": "markdown",
   "metadata": {},
   "source": [
    "As usual, you reshape and standardize the images before feeding them to the network. The code is given in the cell below.\n",
    "\n",
    "<img src=\"images/imvectorkiank.png\" style=\"width:450px;height:300px;\">\n",
    "\n",
    "<caption><center> <u>Figure 1</u>: Image to vector conversion. <br> </center></caption>"
   ]
  },
  {
   "cell_type": "code",
   "execution_count": 13,
   "metadata": {},
   "outputs": [
    {
     "name": "stdout",
     "output_type": "stream",
     "text": [
      "train_x's shape: (209, 12288)\n",
      "test_x's shape: (50, 12288)\n"
     ]
    }
   ],
   "source": [
    "# Reshape the training and test examples \n",
    "train_x_flatten = train_x_orig.reshape(train_x_orig.shape[0], -1)   # The \"-1\" makes reshape flatten the remaining dimensions\n",
    "#train_x_flatten = train_x_orig.reshape(-1,train_x_orig.shape[0]) --Checkout this also\n",
    "test_x_flatten = test_x_orig.reshape(test_x_orig.shape[0], -1)\n",
    "\n",
    "# Standardize data to have feature values between 0 and 1. Similar to feature scaling\n",
    "train_x = train_x_flatten/255.\n",
    "test_x = test_x_flatten/255.\n",
    "\n",
    "print (\"train_x's shape: \" + str(train_x.shape))\n",
    "print (\"test_x's shape: \" + str(test_x.shape))\n"
   ]
  },
  {
   "cell_type": "markdown",
   "metadata": {},
   "source": [
    "$12,288$ equals $64 \\times 64 \\times 3$ which is the size of one reshaped image vector."
   ]
  },
  {
   "cell_type": "markdown",
   "metadata": {},
   "source": [
    "## 3 - Architecture of your model"
   ]
  },
  {
   "cell_type": "markdown",
   "metadata": {},
   "source": [
    "Now that you are familiar with the dataset, it is time to build a deep neural network to distinguish cat images from non-cat images.\n",
    "\n",
    "You will build two different models:\n",
    "- A 2-layer neural network\n",
    "- An L-layer deep neural network\n",
    "\n",
    "You will then compare the performance of these models, and also try out different values for $L$. \n",
    "\n",
    "Let's look at the two architectures.\n",
    "\n",
    "### 3.1 - 2-layer neural network\n",
    "\n",
    "<img src=\"images/2layerNN_kiank.png\" style=\"width:650px;height:400px;\">\n",
    "<caption><center> <u>Figure 2</u>: 2-layer neural network. <br> The model can be summarized as: ***INPUT -> LINEAR -> RELU -> LINEAR -> SIGMOID -> OUTPUT***. </center></caption>\n",
    "\n",
    "<u>Detailed Architecture of figure 2</u>:\n",
    "- The input is a (64,64,3) image which is flattened to a vector of size $(12288,1)$. \n",
    "- The corresponding vector: $[x_0,x_1,...,x_{12287}]^T$ is then multiplied by the weight matrix $W^{[1]}$ of size $(n^{[1]}, 12288)$.\n",
    "- You then add a bias term and take its relu to get the following vector: $[a_0^{[1]}, a_1^{[1]},..., a_{n^{[1]}-1}^{[1]}]^T$.\n",
    "- You then repeat the same process.\n",
    "- You multiply the resulting vector by $W^{[2]}$ and add your intercept (bias). \n",
    "- Finally, you take the sigmoid of the result. If it is greater than 0.5, you classify it to be a cat.\n",
    "\n",
    "### 3.2 - L-layer deep neural network\n",
    "\n",
    "It is hard to represent an L-layer deep neural network with the above representation. However, here is a simplified network representation:\n",
    "\n",
    "<img src=\"images/LlayerNN_kiank.png\" style=\"width:650px;height:400px;\">\n",
    "<caption><center> <u>Figure 3</u>: L-layer neural network. <br> The model can be summarized as: ***[LINEAR -> RELU] $\\times$ (L-1) -> LINEAR -> SIGMOID***</center></caption>\n",
    "\n",
    "<u>Detailed Architecture of figure 3</u>:\n",
    "- The input is a (64,64,3) image which is flattened to a vector of size (12288,1).\n",
    "- The corresponding vector: $[x_0,x_1,...,x_{12287}]^T$ is then multiplied by the weight matrix $W^{[1]}$ and then you add the intercept $b^{[1]}$. The result is called the linear unit.\n",
    "- Next, you take the relu of the linear unit. This process could be repeated several times for each $(W^{[l]}, b^{[l]})$ depending on the model architecture.\n",
    "- Finally, you take the sigmoid of the final linear unit. If it is greater than 0.5, you classify it to be a cat.\n",
    "\n",
    "### 3.3 - General methodology\n",
    "\n",
    "As usual you will follow the Deep Learning methodology to build the model:\n",
    "    1. Initialize parameters / Define hyperparameters\n",
    "    2. Loop for num_iterations:\n",
    "        a. Forward propagation\n",
    "        b. Compute cost function\n",
    "        c. Backward propagation\n",
    "        d. Update parameters (using parameters, and grads from backprop) \n",
    "    4. Use trained parameters to predict labels\n",
    "\n",
    "Let's now implement those two models!"
   ]
  },
  {
   "cell_type": "markdown",
   "metadata": {},
   "source": [
    "## Lets build a 4-Layer Neural Network of [12288, 20, 7, 5, 1]"
   ]
  },
  {
   "cell_type": "code",
   "execution_count": 14,
   "metadata": {},
   "outputs": [
    {
     "data": {
      "text/plain": [
       "12288"
      ]
     },
     "execution_count": 14,
     "metadata": {},
     "output_type": "execute_result"
    }
   ],
   "source": [
    "input_dim=train_x.shape[1]\n",
    "input_dim"
   ]
  },
  {
   "cell_type": "code",
   "execution_count": 15,
   "metadata": {},
   "outputs": [
    {
     "name": "stderr",
     "output_type": "stream",
     "text": [
      "Using TensorFlow backend.\n"
     ]
    }
   ],
   "source": [
    "import keras\n",
    "from keras.models import Sequential\n",
    "from keras.layers import Dense"
   ]
  },
  {
   "cell_type": "code",
   "execution_count": 16,
   "metadata": {},
   "outputs": [
    {
     "name": "stderr",
     "output_type": "stream",
     "text": [
      "C:\\Users\\Priyam\\Anaconda3\\lib\\site-packages\\ipykernel_launcher.py:5: UserWarning: Update your `Dense` call to the Keras 2 API: `Dense(activation=\"relu\", input_dim=12288, units=20, kernel_initializer=\"uniform\")`\n",
      "  \"\"\"\n",
      "C:\\Users\\Priyam\\Anaconda3\\lib\\site-packages\\ipykernel_launcher.py:8: UserWarning: Update your `Dense` call to the Keras 2 API: `Dense(activation=\"relu\", units=7, kernel_initializer=\"uniform\")`\n",
      "  \n",
      "C:\\Users\\Priyam\\Anaconda3\\lib\\site-packages\\ipykernel_launcher.py:11: UserWarning: Update your `Dense` call to the Keras 2 API: `Dense(activation=\"relu\", units=5, kernel_initializer=\"uniform\")`\n",
      "  # This is added back by InteractiveShellApp.init_path()\n",
      "C:\\Users\\Priyam\\Anaconda3\\lib\\site-packages\\ipykernel_launcher.py:14: UserWarning: Update your `Dense` call to the Keras 2 API: `Dense(activation=\"sigmoid\", units=1, kernel_initializer=\"uniform\")`\n",
      "  \n"
     ]
    }
   ],
   "source": [
    "# Initialising the ANN\n",
    "classifier = Sequential()\n",
    "\n",
    "# Adding the input layer and the first hidden layer\n",
    "classifier.add(Dense(output_dim = 20, init = 'uniform', activation = 'relu', input_dim = input_dim))\n",
    "\n",
    "# Adding the second hidden layer\n",
    "classifier.add(Dense(output_dim = 7, init = 'uniform', activation = 'relu'))\n",
    "\n",
    "# Adding the third hidden layer\n",
    "classifier.add(Dense(output_dim = 5, init = 'uniform', activation = 'relu'))\n",
    "\n",
    "# Adding the output layer\n",
    "classifier.add(Dense(output_dim = 1, init = 'uniform', activation = 'sigmoid'))\n",
    "\n",
    "# Compiling the ANN\n",
    "classifier.compile(optimizer = 'adam', loss = 'binary_crossentropy', metrics = ['accuracy'])"
   ]
  },
  {
   "cell_type": "code",
   "execution_count": 18,
   "metadata": {},
   "outputs": [
    {
     "name": "stdout",
     "output_type": "stream",
     "text": [
      "_________________________________________________________________\n",
      "Layer (type)                 Output Shape              Param #   \n",
      "=================================================================\n",
      "dense_1 (Dense)              (None, 20)                245780    \n",
      "_________________________________________________________________\n",
      "dense_2 (Dense)              (None, 7)                 147       \n",
      "_________________________________________________________________\n",
      "dense_3 (Dense)              (None, 5)                 40        \n",
      "_________________________________________________________________\n",
      "dense_4 (Dense)              (None, 1)                 6         \n",
      "=================================================================\n",
      "Total params: 245,973\n",
      "Trainable params: 245,973\n",
      "Non-trainable params: 0\n",
      "_________________________________________________________________\n"
     ]
    }
   ],
   "source": [
    "classifier.summary()"
   ]
  },
  {
   "cell_type": "code",
   "execution_count": 19,
   "metadata": {},
   "outputs": [
    {
     "name": "stderr",
     "output_type": "stream",
     "text": [
      "C:\\Users\\Priyam\\Anaconda3\\lib\\site-packages\\ipykernel_launcher.py:2: UserWarning: The `nb_epoch` argument in `fit` has been renamed `epochs`.\n",
      "  \n"
     ]
    },
    {
     "name": "stdout",
     "output_type": "stream",
     "text": [
      "Epoch 1/100\n",
      "209/209 [==============================] - 3s 12ms/step - loss: 0.6908 - acc: 0.6507\n",
      "Epoch 2/100\n",
      "209/209 [==============================] - 0s 2ms/step - loss: 0.6738 - acc: 0.6555\n",
      "Epoch 3/100\n",
      "209/209 [==============================] - 0s 2ms/step - loss: 0.6541 - acc: 0.6555\n",
      "Epoch 4/100\n",
      "209/209 [==============================] - 0s 2ms/step - loss: 0.6515 - acc: 0.6555\n",
      "Epoch 5/100\n",
      "209/209 [==============================] - 0s 2ms/step - loss: 0.6481 - acc: 0.6555\n",
      "Epoch 6/100\n",
      "209/209 [==============================] - 0s 2ms/step - loss: 0.6480 - acc: 0.6555\n",
      "Epoch 7/100\n",
      "209/209 [==============================] - 0s 2ms/step - loss: 0.6437 - acc: 0.6555\n",
      "Epoch 8/100\n",
      "209/209 [==============================] - 0s 2ms/step - loss: 0.6433 - acc: 0.6555\n",
      "Epoch 9/100\n",
      "209/209 [==============================] - 0s 2ms/step - loss: 0.6396 - acc: 0.6555\n",
      "Epoch 10/100\n",
      "209/209 [==============================] - 1s 5ms/step - loss: 0.6347 - acc: 0.6555\n",
      "Epoch 11/100\n",
      "209/209 [==============================] - 1s 6ms/step - loss: 0.6294 - acc: 0.6555\n",
      "Epoch 12/100\n",
      "209/209 [==============================] - 1s 3ms/step - loss: 0.6201 - acc: 0.6555\n",
      "Epoch 13/100\n",
      "209/209 [==============================] - 1s 2ms/step - loss: 0.6075 - acc: 0.6555\n",
      "Epoch 14/100\n",
      "209/209 [==============================] - 0s 2ms/step - loss: 0.6062 - acc: 0.6555\n",
      "Epoch 15/100\n",
      "209/209 [==============================] - 0s 2ms/step - loss: 0.5977 - acc: 0.6555\n",
      "Epoch 16/100\n",
      "209/209 [==============================] - 0s 2ms/step - loss: 0.5672 - acc: 0.6555\n",
      "Epoch 17/100\n",
      "209/209 [==============================] - 1s 2ms/step - loss: 0.5535 - acc: 0.6555\n",
      "Epoch 18/100\n",
      "209/209 [==============================] - 1s 4ms/step - loss: 0.5500 - acc: 0.6555\n",
      "Epoch 19/100\n",
      "209/209 [==============================] - 1s 4ms/step - loss: 0.5394 - acc: 0.6555\n",
      "Epoch 20/100\n",
      "209/209 [==============================] - 0s 2ms/step - loss: 0.5159 - acc: 0.6555\n",
      "Epoch 21/100\n",
      "209/209 [==============================] - 0s 2ms/step - loss: 0.5246 - acc: 0.6555\n",
      "Epoch 22/100\n",
      "209/209 [==============================] - 1s 3ms/step - loss: 0.5167 - acc: 0.6555\n",
      "Epoch 23/100\n",
      "209/209 [==============================] - 0s 2ms/step - loss: 0.5280 - acc: 0.6555\n",
      "Epoch 24/100\n",
      "209/209 [==============================] - 0s 2ms/step - loss: 0.5009 - acc: 0.6555\n",
      "Epoch 25/100\n",
      "209/209 [==============================] - 0s 2ms/step - loss: 0.4956 - acc: 0.6555\n",
      "Epoch 26/100\n",
      "209/209 [==============================] - 1s 3ms/step - loss: 0.4710 - acc: 0.6555\n",
      "Epoch 27/100\n",
      "209/209 [==============================] - 0s 2ms/step - loss: 0.4578 - acc: 0.6555\n",
      "Epoch 28/100\n",
      "209/209 [==============================] - 1s 3ms/step - loss: 0.4572 - acc: 0.7129\n",
      "Epoch 29/100\n",
      "209/209 [==============================] - 1s 5ms/step - loss: 0.4373 - acc: 0.7943\n",
      "Epoch 30/100\n",
      "209/209 [==============================] - ETA: 0s - loss: 0.4458 - acc: 0.785 - 1s 6ms/step - loss: 0.4506 - acc: 0.7799\n",
      "Epoch 31/100\n",
      "209/209 [==============================] - 2s 8ms/step - loss: 0.4464 - acc: 0.7990\n",
      "Epoch 32/100\n",
      "209/209 [==============================] - 1s 6ms/step - loss: 0.4224 - acc: 0.7943\n",
      "Epoch 33/100\n",
      "209/209 [==============================] - 2s 9ms/step - loss: 0.4346 - acc: 0.7799A: 0s - loss: 0.4241 - acc\n",
      "Epoch 34/100\n",
      "209/209 [==============================] - 1s 5ms/step - loss: 0.4141 - acc: 0.7943\n",
      "Epoch 35/100\n",
      "209/209 [==============================] - 0s 2ms/step - loss: 0.4031 - acc: 0.8182\n",
      "Epoch 36/100\n",
      "209/209 [==============================] - 0s 2ms/step - loss: 0.4011 - acc: 0.8086\n",
      "Epoch 37/100\n",
      "209/209 [==============================] - 0s 2ms/step - loss: 0.3941 - acc: 0.8325\n",
      "Epoch 38/100\n",
      "209/209 [==============================] - 0s 2ms/step - loss: 0.3934 - acc: 0.8230\n",
      "Epoch 39/100\n",
      "209/209 [==============================] - 0s 2ms/step - loss: 0.3686 - acc: 0.8373\n",
      "Epoch 40/100\n",
      "209/209 [==============================] - 0s 2ms/step - loss: 0.3593 - acc: 0.8612\n",
      "Epoch 41/100\n",
      "209/209 [==============================] - 0s 2ms/step - loss: 0.3831 - acc: 0.8278\n",
      "Epoch 42/100\n",
      "209/209 [==============================] - 0s 2ms/step - loss: 0.3610 - acc: 0.8421\n",
      "Epoch 43/100\n",
      "209/209 [==============================] - 0s 2ms/step - loss: 0.3347 - acc: 0.8612\n",
      "Epoch 44/100\n",
      "209/209 [==============================] - 0s 2ms/step - loss: 0.3277 - acc: 0.8804\n",
      "Epoch 45/100\n",
      "209/209 [==============================] - 1s 5ms/step - loss: 0.3304 - acc: 0.8612A: 0s - loss: 0.3445 - acc: 0.\n",
      "Epoch 46/100\n",
      "209/209 [==============================] - 1s 7ms/step - loss: 0.3294 - acc: 0.8756\n",
      "Epoch 47/100\n",
      "209/209 [==============================] - 1s 7ms/step - loss: 0.3107 - acc: 0.8852\n",
      "Epoch 48/100\n",
      "209/209 [==============================] - 1s 5ms/step - loss: 0.2979 - acc: 0.8995\n",
      "Epoch 49/100\n",
      "209/209 [==============================] - 1s 3ms/step - loss: 0.3068 - acc: 0.8660\n",
      "Epoch 50/100\n",
      "209/209 [==============================] - 1s 3ms/step - loss: 0.3134 - acc: 0.8852\n",
      "Epoch 51/100\n",
      "209/209 [==============================] - 1s 3ms/step - loss: 0.2966 - acc: 0.8900\n",
      "Epoch 52/100\n",
      "209/209 [==============================] - 1s 3ms/step - loss: 0.2779 - acc: 0.9091\n",
      "Epoch 53/100\n",
      "209/209 [==============================] - 2s 10ms/step - loss: 0.2854 - acc: 0.9043\n",
      "Epoch 54/100\n",
      "209/209 [==============================] - 2s 9ms/step - loss: 0.3019 - acc: 0.8804\n",
      "Epoch 55/100\n",
      "209/209 [==============================] - 2s 9ms/step - loss: 0.3201 - acc: 0.8756\n",
      "Epoch 56/100\n",
      "209/209 [==============================] - 2s 7ms/step - loss: 0.2803 - acc: 0.9043\n",
      "Epoch 57/100\n",
      "209/209 [==============================] - 1s 4ms/step - loss: 0.2770 - acc: 0.9091\n",
      "Epoch 58/100\n",
      "209/209 [==============================] - 1s 3ms/step - loss: 0.3265 - acc: 0.8660\n",
      "Epoch 59/100\n",
      "209/209 [==============================] - 0s 2ms/step - loss: 0.2869 - acc: 0.8947\n",
      "Epoch 60/100\n",
      "209/209 [==============================] - 1s 6ms/step - loss: 0.2770 - acc: 0.8995\n",
      "Epoch 61/100\n",
      "209/209 [==============================] - 1s 3ms/step - loss: 0.2728 - acc: 0.9043\n",
      "Epoch 62/100\n",
      "209/209 [==============================] - 1s 5ms/step - loss: 0.2618 - acc: 0.9091\n",
      "Epoch 63/100\n",
      "209/209 [==============================] - 1s 4ms/step - loss: 0.2561 - acc: 0.9187\n",
      "Epoch 64/100\n",
      "209/209 [==============================] - 1s 3ms/step - loss: 0.2998 - acc: 0.8756\n",
      "Epoch 65/100\n",
      "209/209 [==============================] - 1s 3ms/step - loss: 0.3156 - acc: 0.8900\n",
      "Epoch 66/100\n",
      "209/209 [==============================] - 1s 3ms/step - loss: 0.3710 - acc: 0.8134\n",
      "Epoch 67/100\n",
      "209/209 [==============================] - 1s 3ms/step - loss: 0.2936 - acc: 0.8708\n",
      "Epoch 68/100\n",
      "209/209 [==============================] - 1s 3ms/step - loss: 0.3142 - acc: 0.8612\n",
      "Epoch 69/100\n",
      "209/209 [==============================] - 1s 3ms/step - loss: 0.2723 - acc: 0.9043\n",
      "Epoch 70/100\n",
      "209/209 [==============================] - 0s 2ms/step - loss: 0.2535 - acc: 0.9091\n",
      "Epoch 71/100\n",
      "209/209 [==============================] - 1s 3ms/step - loss: 0.2497 - acc: 0.9187\n",
      "Epoch 72/100\n",
      "209/209 [==============================] - 1s 3ms/step - loss: 0.2555 - acc: 0.9139\n",
      "Epoch 73/100\n",
      "209/209 [==============================] - 1s 3ms/step - loss: 0.2815 - acc: 0.8852\n",
      "Epoch 74/100\n",
      "209/209 [==============================] - 1s 3ms/step - loss: 0.2509 - acc: 0.9091\n",
      "Epoch 75/100\n",
      "209/209 [==============================] - 1s 3ms/step - loss: 0.2522 - acc: 0.9091\n",
      "Epoch 76/100\n",
      "209/209 [==============================] - 0s 2ms/step - loss: 0.2425 - acc: 0.9091\n",
      "Epoch 77/100\n",
      "209/209 [==============================] - 1s 3ms/step - loss: 0.2365 - acc: 0.9187\n",
      "Epoch 78/100\n",
      "209/209 [==============================] - 0s 2ms/step - loss: 0.2514 - acc: 0.9139\n",
      "Epoch 79/100\n",
      "209/209 [==============================] - 0s 2ms/step - loss: 0.2420 - acc: 0.9187\n",
      "Epoch 80/100\n",
      "209/209 [==============================] - 1s 3ms/step - loss: 0.2657 - acc: 0.8995\n",
      "Epoch 81/100\n",
      "209/209 [==============================] - 0s 2ms/step - loss: 0.2369 - acc: 0.9139\n",
      "Epoch 82/100\n",
      "209/209 [==============================] - 0s 2ms/step - loss: 0.2339 - acc: 0.9234\n",
      "Epoch 83/100\n",
      "209/209 [==============================] - 1s 3ms/step - loss: 0.2230 - acc: 0.9330\n",
      "Epoch 84/100\n"
     ]
    },
    {
     "name": "stdout",
     "output_type": "stream",
     "text": [
      "209/209 [==============================] - 1s 3ms/step - loss: 0.2309 - acc: 0.9187A: 0s - loss: 0.2163 - acc: 0\n",
      "Epoch 85/100\n",
      "209/209 [==============================] - 1s 3ms/step - loss: 0.2223 - acc: 0.9282\n",
      "Epoch 86/100\n",
      "209/209 [==============================] - 1s 3ms/step - loss: 0.2134 - acc: 0.9378\n",
      "Epoch 87/100\n",
      "209/209 [==============================] - 0s 2ms/step - loss: 0.2246 - acc: 0.9282\n",
      "Epoch 88/100\n",
      "209/209 [==============================] - 0s 2ms/step - loss: 0.2447 - acc: 0.9139\n",
      "Epoch 89/100\n",
      "209/209 [==============================] - 1s 4ms/step - loss: 0.2357 - acc: 0.9234\n",
      "Epoch 90/100\n",
      "209/209 [==============================] - 1s 3ms/step - loss: 0.2217 - acc: 0.9330\n",
      "Epoch 91/100\n",
      "209/209 [==============================] - 0s 2ms/step - loss: 0.2136 - acc: 0.9378\n",
      "Epoch 92/100\n",
      "209/209 [==============================] - 1s 3ms/step - loss: 0.2072 - acc: 0.9378\n",
      "Epoch 93/100\n",
      "209/209 [==============================] - 1s 3ms/step - loss: 0.2007 - acc: 0.9474\n",
      "Epoch 94/100\n",
      "209/209 [==============================] - 0s 2ms/step - loss: 0.2281 - acc: 0.9187\n",
      "Epoch 95/100\n",
      "209/209 [==============================] - 0s 2ms/step - loss: 0.2603 - acc: 0.9091\n",
      "Epoch 96/100\n",
      "209/209 [==============================] - 1s 3ms/step - loss: 0.2962 - acc: 0.8708\n",
      "Epoch 97/100\n",
      "209/209 [==============================] - 0s 2ms/step - loss: 0.2082 - acc: 0.9330\n",
      "Epoch 98/100\n",
      "209/209 [==============================] - 0s 2ms/step - loss: 0.2019 - acc: 0.9426A: 0s - loss: 0.2206 - acc: 0.\n",
      "Epoch 99/100\n",
      "209/209 [==============================] - 1s 3ms/step - loss: 0.1955 - acc: 0.9426\n",
      "Epoch 100/100\n",
      "209/209 [==============================] - 1s 3ms/step - loss: 0.1902 - acc: 0.9474\n"
     ]
    },
    {
     "data": {
      "text/plain": [
       "<keras.callbacks.History at 0x208e91c1dd8>"
      ]
     },
     "execution_count": 19,
     "metadata": {},
     "output_type": "execute_result"
    }
   ],
   "source": [
    "# Fitting the ANN to the Training set\n",
    "classifier.fit(train_x, train_y, batch_size = 10, nb_epoch = 100)"
   ]
  },
  {
   "cell_type": "code",
   "execution_count": 70,
   "metadata": {},
   "outputs": [
    {
     "name": "stdout",
     "output_type": "stream",
     "text": [
      "_________________________________________________________________\n",
      "Layer (type)                 Output Shape              Param #   \n",
      "=================================================================\n",
      "dense_16 (Dense)             (None, 20)                245780    \n",
      "_________________________________________________________________\n",
      "dense_17 (Dense)             (None, 7)                 147       \n",
      "_________________________________________________________________\n",
      "dense_18 (Dense)             (None, 5)                 40        \n",
      "_________________________________________________________________\n",
      "dense_19 (Dense)             (None, 1)                 6         \n",
      "=================================================================\n",
      "Total params: 245,973\n",
      "Trainable params: 245,973\n",
      "Non-trainable params: 0\n",
      "_________________________________________________________________\n"
     ]
    }
   ],
   "source": [
    "classifier.summary()"
   ]
  },
  {
   "cell_type": "markdown",
   "metadata": {},
   "source": [
    "__TRY CALCULATING THE NUMBER OF PARAMETERS AND MATCH WITH THE SUMMARY ABOVE__"
   ]
  },
  {
   "cell_type": "code",
   "execution_count": 20,
   "metadata": {},
   "outputs": [],
   "source": [
    "# Predicting the Test set results\n",
    "y_pred = classifier.predict(test_x)\n",
    "y_pred = (y_pred > 0.5)"
   ]
  },
  {
   "cell_type": "code",
   "execution_count": 21,
   "metadata": {},
   "outputs": [],
   "source": [
    "from sklearn.metrics import confusion_matrix\n",
    "cm = confusion_matrix(test_y, y_pred)"
   ]
  },
  {
   "cell_type": "code",
   "execution_count": 22,
   "metadata": {},
   "outputs": [
    {
     "data": {
      "text/plain": [
       "array([[12,  5],\n",
       "       [ 7, 26]], dtype=int64)"
      ]
     },
     "execution_count": 22,
     "metadata": {},
     "output_type": "execute_result"
    }
   ],
   "source": [
    "cm"
   ]
  },
  {
   "cell_type": "code",
   "execution_count": 23,
   "metadata": {},
   "outputs": [
    {
     "data": {
      "text/plain": [
       "(50, 1)"
      ]
     },
     "execution_count": 23,
     "metadata": {},
     "output_type": "execute_result"
    }
   ],
   "source": [
    "y_pred.shape"
   ]
  },
  {
   "cell_type": "code",
   "execution_count": 20,
   "metadata": {},
   "outputs": [
    {
     "data": {
      "text/plain": [
       "(50, 1)"
      ]
     },
     "execution_count": 20,
     "metadata": {},
     "output_type": "execute_result"
    }
   ],
   "source": [
    "test_y.shape"
   ]
  },
  {
   "cell_type": "code",
   "execution_count": 21,
   "metadata": {},
   "outputs": [
    {
     "data": {
      "text/plain": [
       "array([[14,  3],\n",
       "       [14, 19]], dtype=int64)"
      ]
     },
     "execution_count": 21,
     "metadata": {},
     "output_type": "execute_result"
    }
   ],
   "source": [
    "cm"
   ]
  },
  {
   "cell_type": "code",
   "execution_count": 24,
   "metadata": {},
   "outputs": [],
   "source": [
    "classifier.save('cat_recognizer_v1.h5')"
   ]
  },
  {
   "cell_type": "markdown",
   "metadata": {},
   "source": [
    "__DEMO__"
   ]
  },
  {
   "cell_type": "code",
   "execution_count": 25,
   "metadata": {},
   "outputs": [],
   "source": [
    "demo_index=2"
   ]
  },
  {
   "cell_type": "code",
   "execution_count": 26,
   "metadata": {},
   "outputs": [
    {
     "name": "stdout",
     "output_type": "stream",
     "text": [
      "(12288,)\n"
     ]
    }
   ],
   "source": [
    "test_sample=test_x[demo_index,:]\n",
    "print(test_sample.shape)"
   ]
  },
  {
   "cell_type": "code",
   "execution_count": 27,
   "metadata": {},
   "outputs": [
    {
     "name": "stdout",
     "output_type": "stream",
     "text": [
      "(1, 12288)\n"
     ]
    }
   ],
   "source": [
    "test_sample=np.expand_dims(test_sample,axis=0)\n",
    "print(test_sample.shape)"
   ]
  },
  {
   "cell_type": "code",
   "execution_count": 28,
   "metadata": {},
   "outputs": [
    {
     "name": "stdout",
     "output_type": "stream",
     "text": [
      "[[0.69520366]]\n"
     ]
    }
   ],
   "source": [
    "y_pred_demo=classifier.predict(test_sample)\n",
    "print(y_pred_demo)"
   ]
  },
  {
   "cell_type": "code",
   "execution_count": 29,
   "metadata": {},
   "outputs": [
    {
     "data": {
      "text/plain": [
       "array(0.69520366, dtype=float32)"
      ]
     },
     "execution_count": 29,
     "metadata": {},
     "output_type": "execute_result"
    }
   ],
   "source": [
    "np.squeeze(y_pred_demo)"
   ]
  },
  {
   "cell_type": "code",
   "execution_count": 30,
   "metadata": {},
   "outputs": [],
   "source": [
    "if y_pred_demo >0.5:\n",
    "    y_pred_demo=1\n",
    "else:\n",
    "    y_pred_demo=0"
   ]
  },
  {
   "cell_type": "code",
   "execution_count": 31,
   "metadata": {},
   "outputs": [
    {
     "data": {
      "text/plain": [
       "1"
      ]
     },
     "execution_count": 31,
     "metadata": {},
     "output_type": "execute_result"
    }
   ],
   "source": [
    "y_pred_demo"
   ]
  },
  {
   "cell_type": "code",
   "execution_count": 32,
   "metadata": {},
   "outputs": [
    {
     "name": "stdout",
     "output_type": "stream",
     "text": [
      "My Prediction = 1. It's a cat picture.\n",
      "Actual=1. It's a cat picture.\n"
     ]
    },
    {
     "data": {
      "image/png": "[encoded data removed]",
      "text/plain": [
       "<matplotlib.figure.Figure at 0x208f2d167b8>"
      ]
     },
     "metadata": {
      "needs_background": "light"
     },
     "output_type": "display_data"
    }
   ],
   "source": [
    "plt.imshow(test_x_orig[demo_index])\n",
    "print (\"My Prediction = \" + str(y_pred_demo) + \". It's a \" + classes[y_pred_demo].decode(\"utf-8\") +  \" picture.\")\n",
    "print(\"Actual=\"+ str(test_y[demo_index,0]) + \". It's a \" + classes[test_y[demo_index,0]].decode(\"utf-8\") +  \" picture.\")"
   ]
  },
  {
   "cell_type": "code",
   "execution_count": 4,
   "metadata": {},
   "outputs": [],
   "source": [
    "#Loading a saved model\n",
    "import keras\n",
    "saved_model=keras.models.load_model('cat_recognizer_v1.h5')"
   ]
  },
  {
   "cell_type": "code",
   "execution_count": 5,
   "metadata": {},
   "outputs": [
    {
     "name": "stdout",
     "output_type": "stream",
     "text": [
      "_________________________________________________________________\n",
      "Layer (type)                 Output Shape              Param #   \n",
      "=================================================================\n",
      "dense_16 (Dense)             (None, 20)                245780    \n",
      "_________________________________________________________________\n",
      "dense_17 (Dense)             (None, 7)                 147       \n",
      "_________________________________________________________________\n",
      "dense_18 (Dense)             (None, 5)                 40        \n",
      "_________________________________________________________________\n",
      "dense_19 (Dense)             (None, 1)                 6         \n",
      "=================================================================\n",
      "Total params: 245,973\n",
      "Trainable params: 245,973\n",
      "Non-trainable params: 0\n",
      "_________________________________________________________________\n"
     ]
    }
   ],
   "source": [
    "saved_model.summary()"
   ]
  },
  {
   "cell_type": "code",
   "execution_count": null,
   "metadata": {},
   "outputs": [],
   "source": []
  }
 ],
 "metadata": {
  "kernelspec": {
   "display_name": "Python 3",
   "language": "python",
   "name": "python3"
  },
  "language_info": {
   "codemirror_mode": {
    "name": "ipython",
    "version": 3
   },
   "file_extension": ".py",
   "mimetype": "text/x-python",
   "name": "python",
   "nbconvert_exporter": "python",
   "pygments_lexer": "ipython3",
   "version": "3.6.4"
  }
 },
 "nbformat": 4,
 "nbformat_minor": 2
}
